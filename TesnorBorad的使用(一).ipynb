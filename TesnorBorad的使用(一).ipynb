{
 "cells": [
  {
   "cell_type": "markdown",
   "metadata": {},
   "source": [
    "TesnorBorad的使用"
   ]
  },
  {
   "cell_type": "code",
   "execution_count": 2,
   "metadata": {},
   "outputs": [],
   "source": [
    "from torch.utils.tensorboard import SummaryWriter"
   ]
  },
  {
   "cell_type": "code",
   "execution_count": 5,
   "metadata": {},
   "outputs": [],
   "source": [
    "#初始化SummaryWriter类，接收参数为log输出路径\n",
    "writter = SummaryWriter(\"logs\")\n",
    "# .add_image()方法来添加图像\n",
    "# writter.add_image()\n",
    "# 接收参数：tags，scalar_value标量，global_step步长\n",
    "# 利用.add_scalar()创建一个y=x图像\n",
    "for i in range(100):\n",
    "    writter.add_scalar(\"y=pow(i,2)\",i,pow(i,2))\n",
    "#关闭SummaryWriter()类\n",
    "writter.close()"
   ]
  },
  {
   "cell_type": "markdown",
   "metadata": {},
   "source": [
    "### add_scalar参数图解\n",
    "<img src=\"imgs/add_scalar参数图解.png\">"
   ]
  },
  {
   "cell_type": "markdown",
   "metadata": {},
   "source": []
  }
 ],
 "metadata": {
  "interpreter": {
   "hash": "96eb50e1d44aed467dc8f759cb08c32fbfa9babcf79c554e2d0e5feb04653a10"
  },
  "kernelspec": {
   "display_name": "Python 3.9.7 ('base')",
   "language": "python",
   "name": "python3"
  },
  "language_info": {
   "codemirror_mode": {
    "name": "ipython",
    "version": 3
   },
   "file_extension": ".py",
   "mimetype": "text/x-python",
   "name": "python",
   "nbconvert_exporter": "python",
   "pygments_lexer": "ipython3",
   "version": "3.9.7"
  },
  "orig_nbformat": 4
 },
 "nbformat": 4,
 "nbformat_minor": 2
}
