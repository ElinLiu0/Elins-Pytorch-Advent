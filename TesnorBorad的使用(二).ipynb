{
 "cells": [
  {
   "cell_type": "markdown",
   "metadata": {},
   "source": [
    "TensorBoard添加图像"
   ]
  },
  {
   "cell_type": "code",
   "execution_count": 1,
   "metadata": {},
   "outputs": [],
   "source": [
    "from torch.utils.tensorboard import SummaryWriter\n",
    "import os\n",
    "from PIL import Image\n",
    "import torch\n",
    "import numpy as np"
   ]
  },
  {
   "cell_type": "code",
   "execution_count": 2,
   "metadata": {},
   "outputs": [],
   "source": [
    "#初始化SummaryWriter\n",
    "writter = SummaryWriter(\"logs\")"
   ]
  },
  {
   "cell_type": "code",
   "execution_count": 3,
   "metadata": {},
   "outputs": [],
   "source": [
    "imageTesnor = torch.from_numpy(np.array(Image.open(\"data\\\\hymenoptera_data\\\\train\\\\ants\\\\0013035.jpg\")))"
   ]
  },
  {
   "cell_type": "code",
   "execution_count": 4,
   "metadata": {},
   "outputs": [],
   "source": [
    "#调用.add_image()方法为tensor board\n",
    "writter.add_image(\"image1\",imageTesnor,1,dataformats=\"HWC\")\n",
    "writter.close()"
   ]
  },
  {
   "cell_type": "code",
   "execution_count": 7,
   "metadata": {},
   "outputs": [],
   "source": [
    "#遍历添加所有图像\n",
    "imageTesnorList = []\n",
    "imageNameList = []\n",
    "for root,path,files in os.walk(\"data\\\\hymenoptera_data\\\\train\\\\ants\\\\\"):\n",
    "    imageNameList = files\n",
    "    for i in files:\n",
    "       imageTesnorList.append(torch.from_numpy(np.array(Image.open(os.path.join(root,i)))).to(\"cuda\"))"
   ]
  },
  {
   "cell_type": "code",
   "execution_count": 9,
   "metadata": {},
   "outputs": [],
   "source": [
    "for i in range(len(imageTesnorList)):\n",
    "    try:\n",
    "        writter.add_image(imageNameList[i],imageTesnorList[i],i,dataformats=\"HWC\")\n",
    "    except Exception:\n",
    "        pass\n",
    "writter.close()    "
   ]
  }
 ],
 "metadata": {
  "interpreter": {
   "hash": "96eb50e1d44aed467dc8f759cb08c32fbfa9babcf79c554e2d0e5feb04653a10"
  },
  "kernelspec": {
   "display_name": "Python 3.9.7 ('base')",
   "language": "python",
   "name": "python3"
  },
  "language_info": {
   "codemirror_mode": {
    "name": "ipython",
    "version": 3
   },
   "file_extension": ".py",
   "mimetype": "text/x-python",
   "name": "python",
   "nbconvert_exporter": "python",
   "pygments_lexer": "ipython3",
   "version": "3.9.7"
  },
  "orig_nbformat": 4
 },
 "nbformat": 4,
 "nbformat_minor": 2
}
